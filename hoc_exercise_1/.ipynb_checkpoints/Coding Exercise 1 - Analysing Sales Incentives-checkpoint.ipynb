{
 "cells": [
  {
   "cell_type": "markdown",
   "metadata": {},
   "source": [
    "<h4>This is a guided coding exercise on the <b> Human Resources Dataset </b>\n",
    "\n",
    "<h4>Follow the instructions and write the appropriate code as required"
   ]
  },
  {
   "cell_type": "markdown",
   "metadata": {},
   "source": [
    "Import the pandas module"
   ]
  },
  {
   "cell_type": "code",
   "execution_count": 1,
   "metadata": {},
   "outputs": [],
   "source": [
    "import pandas as pd"
   ]
  },
  {
   "cell_type": "markdown",
   "metadata": {},
   "source": [
    "Create the following variables:\n",
    "<br><br> <b> path :</b> \n",
    "    <ul><li>Store the name of the location where your file is located.\n",
    "    <li>Replace all backward slashes with forward slash\n",
    "    </ul>\n",
    "    <b> file </b> : Store the name of the excel file (attached)"
   ]
  },
  {
   "cell_type": "code",
   "execution_count": 7,
   "metadata": {},
   "outputs": [],
   "source": [
    "file = 'Sales_Incentives.xlsx'"
   ]
  },
  {
   "cell_type": "markdown",
   "metadata": {},
   "source": [
    "Read the File into a DataFrame and name it as incentive"
   ]
  },
  {
   "cell_type": "code",
   "execution_count": 8,
   "metadata": {},
   "outputs": [],
   "source": [
    "incentive = pd.read_excel(file)"
   ]
  },
  {
   "cell_type": "markdown",
   "metadata": {},
   "source": [
    "Read the top 8 rows of this DataFrame"
   ]
  },
  {
   "cell_type": "code",
   "execution_count": 9,
   "metadata": {},
   "outputs": [
    {
     "data": {
      "text/html": [
       "<div>\n",
       "<style scoped>\n",
       "    .dataframe tbody tr th:only-of-type {\n",
       "        vertical-align: middle;\n",
       "    }\n",
       "\n",
       "    .dataframe tbody tr th {\n",
       "        vertical-align: top;\n",
       "    }\n",
       "\n",
       "    .dataframe thead th {\n",
       "        text-align: right;\n",
       "    }\n",
       "</style>\n",
       "<table border=\"1\" class=\"dataframe\">\n",
       "  <thead>\n",
       "    <tr style=\"text-align: right;\">\n",
       "      <th></th>\n",
       "      <th>Salesperson Name</th>\n",
       "      <th>Attainment</th>\n",
       "      <th>Base Pay</th>\n",
       "      <th>Incentive</th>\n",
       "    </tr>\n",
       "  </thead>\n",
       "  <tbody>\n",
       "    <tr>\n",
       "      <th>0</th>\n",
       "      <td>John Adams</td>\n",
       "      <td>58.0</td>\n",
       "      <td>88735.0</td>\n",
       "      <td>25733.0</td>\n",
       "    </tr>\n",
       "    <tr>\n",
       "      <th>1</th>\n",
       "      <td>Kara Williams</td>\n",
       "      <td>69.0</td>\n",
       "      <td>79260.0</td>\n",
       "      <td>27345.0</td>\n",
       "    </tr>\n",
       "    <tr>\n",
       "      <th>2</th>\n",
       "      <td>Zarine Malik</td>\n",
       "      <td>51.0</td>\n",
       "      <td>90580.0</td>\n",
       "      <td>23098.0</td>\n",
       "    </tr>\n",
       "    <tr>\n",
       "      <th>3</th>\n",
       "      <td>Wayne Smith</td>\n",
       "      <td>57.0</td>\n",
       "      <td>85031.0</td>\n",
       "      <td>24234.0</td>\n",
       "    </tr>\n",
       "    <tr>\n",
       "      <th>4</th>\n",
       "      <td>Ray Jacobs</td>\n",
       "      <td>54.0</td>\n",
       "      <td>78498.0</td>\n",
       "      <td>21194.0</td>\n",
       "    </tr>\n",
       "    <tr>\n",
       "      <th>5</th>\n",
       "      <td>Alex Donnelly</td>\n",
       "      <td>72.0</td>\n",
       "      <td>76008.0</td>\n",
       "      <td>27363.0</td>\n",
       "    </tr>\n",
       "    <tr>\n",
       "      <th>6</th>\n",
       "      <td>Nigel Stone</td>\n",
       "      <td>70.0</td>\n",
       "      <td>90446.0</td>\n",
       "      <td>31656.0</td>\n",
       "    </tr>\n",
       "    <tr>\n",
       "      <th>7</th>\n",
       "      <td>Susan Kim</td>\n",
       "      <td>58.0</td>\n",
       "      <td>90875.0</td>\n",
       "      <td>26354.0</td>\n",
       "    </tr>\n",
       "  </tbody>\n",
       "</table>\n",
       "</div>"
      ],
      "text/plain": [
       "  Salesperson Name  Attainment  Base Pay  Incentive\n",
       "0       John Adams        58.0   88735.0    25733.0\n",
       "1    Kara Williams        69.0   79260.0    27345.0\n",
       "2     Zarine Malik        51.0   90580.0    23098.0\n",
       "3      Wayne Smith        57.0   85031.0    24234.0\n",
       "4       Ray Jacobs        54.0   78498.0    21194.0\n",
       "5    Alex Donnelly        72.0   76008.0    27363.0\n",
       "6      Nigel Stone        70.0   90446.0    31656.0\n",
       "7        Susan Kim        58.0   90875.0    26354.0"
      ]
     },
     "execution_count": 9,
     "metadata": {},
     "output_type": "execute_result"
    }
   ],
   "source": [
    "incentive.head(8)"
   ]
  },
  {
   "cell_type": "markdown",
   "metadata": {},
   "source": [
    "What is the row count of this DataFrame?"
   ]
  },
  {
   "cell_type": "code",
   "execution_count": 16,
   "metadata": {},
   "outputs": [
    {
     "data": {
      "text/plain": [
       "75"
      ]
     },
     "execution_count": 16,
     "metadata": {},
     "output_type": "execute_result"
    }
   ],
   "source": [
    "len(incentive)"
   ]
  },
  {
   "cell_type": "markdown",
   "metadata": {},
   "source": [
    "What is the column count of this DataFrame?"
   ]
  },
  {
   "cell_type": "code",
   "execution_count": 17,
   "metadata": {},
   "outputs": [
    {
     "data": {
      "text/plain": [
       "4"
      ]
     },
     "execution_count": 17,
     "metadata": {},
     "output_type": "execute_result"
    }
   ],
   "source": [
    "len(incentive.columns)"
   ]
  },
  {
   "cell_type": "markdown",
   "metadata": {},
   "source": [
    "Run incentive.info() and write down how many columns have null entries in them"
   ]
  },
  {
   "cell_type": "code",
   "execution_count": 18,
   "metadata": {},
   "outputs": [
    {
     "name": "stdout",
     "output_type": "stream",
     "text": [
      "<class 'pandas.core.frame.DataFrame'>\n",
      "RangeIndex: 75 entries, 0 to 74\n",
      "Data columns (total 4 columns):\n",
      "Salesperson Name    75 non-null object\n",
      "Attainment          74 non-null float64\n",
      "Base Pay            74 non-null float64\n",
      "Incentive           75 non-null float64\n",
      "dtypes: float64(3), object(1)\n",
      "memory usage: 2.4+ KB\n"
     ]
    }
   ],
   "source": [
    "incentive.info()"
   ]
  },
  {
   "cell_type": "code",
   "execution_count": 19,
   "metadata": {},
   "outputs": [],
   "source": [
    "# Only Attainment and Base Pay have null entries in them. "
   ]
  },
  {
   "cell_type": "code",
   "execution_count": null,
   "metadata": {},
   "outputs": [],
   "source": []
  }
 ],
 "metadata": {
  "kernelspec": {
   "display_name": "Python 3",
   "language": "python",
   "name": "python3"
  },
  "language_info": {
   "codemirror_mode": {
    "name": "ipython",
    "version": 3
   },
   "file_extension": ".py",
   "mimetype": "text/x-python",
   "name": "python",
   "nbconvert_exporter": "python",
   "pygments_lexer": "ipython3",
   "version": "3.7.1"
  }
 },
 "nbformat": 4,
 "nbformat_minor": 2
}
